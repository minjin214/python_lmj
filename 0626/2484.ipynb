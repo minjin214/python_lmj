{
 "cells": [
  {
   "cell_type": "markdown",
   "metadata": {},
   "source": [
    "문제\n",
    "1에서부터 6까지의 눈을 가진 4개의 주사위를 던져서 다음과 같은 규칙에 따라 상금을 받는 게임이 있다. \n",
    "\n",
    "1. 같은 눈이 4개가 나오면 50,000원+(같은 눈)×5,000원의 상금을 받게 된다. \n",
    "2. 같은 눈이 3개만 나오면 10,000원+(3개가 나온 눈)×1,000원의 상금을 받게 된다. \n",
    "3. 같은 눈이 2개씩 두 쌍이 나오는 경우에는 2,000원+(2개가 나온 눈)×500원+(또 다른 2개가 나온 눈)×500원의 상금을 받게 된다.\n",
    "4. 같은 눈이 2개만 나오는 경우에는 1,000원+(같은 눈)×100원의 상금을 받게 된다. \n",
    "5. 모두 다른 눈이 나오는 경우에는 (그 중 가장 큰 눈)×100원의 상금을 받게 된다.  \n",
    "\n",
    "예를 들어, 4개의 눈이 3, 3, 3, 3으로 주어지면 50,000+3×5,000으로 계산되어 65,000원의 상금을 받게 된다. 4개의 눈이 3, 3, 6, 3으로 주어지면 상금은 10,000+3×1,000으로 계산되어 13,000원을 받게 된다. 또 4개의 눈이 2, 2, 6, 6으로 주어지면 2,000+2×500+6×500으로 계산되어 6,000원을 받게 된다. 4개의 눈이 6, 2, 1, 6으로 주어지면 1,000+6×100으로 계산되어 1,600원을 받게 된다. 4개의 눈이 6, 2, 1, 5로 주어지면 그 중 가장 큰 값이 6이므로 6×100으로 계산되어 600원을 상금으로 받게 된다.\n",
    "\n",
    "N(1 ≤ N ≤ 1,000)명이 주사위 게임에 참여하였을 때, 가장 많은 상금을 받은 사람의 상금을 출력하는 프로그램을 작성하시오.\n",
    "\n",
    "입력 : \n",
    "첫째 줄에는 참여하는 사람 수 N이 주어지고 그 다음 줄부터 N개의 줄에 사람들이 주사위를 던진 4개의 눈이 빈칸을 사이에 두고 각각 주어진다.\n",
    "\n",
    "출력 : \n",
    "첫째 줄에 가장 많은 상금을 받은 사람의 상금을 출력한다."
   ]
  },
  {
   "cell_type": "code",
   "execution_count": 1,
   "metadata": {},
   "outputs": [
    {
     "name": "stdout",
     "output_type": "stream",
     "text": [
      "65000\n"
     ]
    }
   ],
   "source": [
    "def calculate_prize(dice):\n",
    "    dice_count = {i: dice.count(i) for i in range(1, 7)}\n",
    "    count_values = list(dice_count.values())\n",
    "\n",
    "    if 4 in count_values:\n",
    "        number = count_values.index(4) + 1\n",
    "        return 50000 + number * 5000\n",
    "    elif 3 in count_values:\n",
    "        number = count_values.index(3) + 1\n",
    "        return 10000 + number * 1000\n",
    "    elif count_values.count(2) == 2:\n",
    "        pairs = [i + 1 for i, v in enumerate(count_values) if v == 2]\n",
    "        return 2000 + sum(pair * 500 for pair in pairs)\n",
    "    elif 2 in count_values:\n",
    "        number = count_values.index(2) + 1\n",
    "        return 1000 + number * 100\n",
    "    else:\n",
    "        return max(dice) * 100\n",
    "\n",
    "n = int(input())\n",
    "max_prize = 0\n",
    "\n",
    "for _ in range(n):\n",
    "    dice = list(map(int, input().split()))\n",
    "    prize = calculate_prize(dice)\n",
    "    if prize > max_prize:\n",
    "        max_prize = prize\n",
    "\n",
    "print(max_prize)\n"
   ]
  }
 ],
 "metadata": {
  "kernelspec": {
   "display_name": "Python 3",
   "language": "python",
   "name": "python3"
  },
  "language_info": {
   "codemirror_mode": {
    "name": "ipython",
    "version": 3
   },
   "file_extension": ".py",
   "mimetype": "text/x-python",
   "name": "python",
   "nbconvert_exporter": "python",
   "pygments_lexer": "ipython3",
   "version": "3.11.2"
  }
 },
 "nbformat": 4,
 "nbformat_minor": 2
}
